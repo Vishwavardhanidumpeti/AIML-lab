{
  "nbformat": 4,
  "nbformat_minor": 0,
  "metadata": {
    "colab": {
      "provenance": []
    },
    "kernelspec": {
      "name": "python3",
      "display_name": "Python 3"
    },
    "language_info": {
      "name": "python"
    }
  },
  "cells": [
    {
      "cell_type": "markdown",
      "source": [
        "# Implement the AI Game Strategy\n"
      ],
      "metadata": {
        "id": "Ykiuf5fUe1tD"
      }
    },
    {
      "cell_type": "markdown",
      "source": [
        "## Part 1 –(a). Install the Python Libraries required for Game Strategy\n"
      ],
      "metadata": {
        "id": "iv91VZH-e4HU"
      }
    },
    {
      "cell_type": "code",
      "execution_count": null,
      "metadata": {
        "id": "5BaHRj1qeaCA"
      },
      "outputs": [],
      "source": [
        "from collections import namedtuple, Counter, defaultdict\n",
        "import random\n",
        "import math\n",
        "import functools\n",
        "cache=functools.lru_cache(10**6)\n"
      ]
    },
    {
      "cell_type": "code",
      "source": [
        "class Game:\n",
        "    def actions(self, state ):\n",
        "        raise NotImplementedError\n",
        "    def result(self, state , move ):\n",
        "        raise NotImplementedError\n",
        "    def is_terminal (self, state ):\n",
        "        return not self.actions(state)\n",
        "    def utility(self, state , player ):\n",
        "        raise NotImplementedError\n",
        "\n"
      ],
      "metadata": {
        "id": "AQG7mN2Te67I"
      },
      "execution_count": null,
      "outputs": []
    },
    {
      "cell_type": "code",
      "source": [
        "def play_game(game, strategies: dict, verbose=False):\n",
        "    state = game.initial\n",
        "    while not game.is_terminal(state):\n",
        "        player = state.to_move\n",
        "        move = strategies[player](game, state)\n",
        "        state = game.result(state, move)\n",
        "    if verbose:\n",
        "        print('Player', player, 'move:', move)\n",
        "    print(state)\n",
        "    return state\n",
        "\n"
      ],
      "metadata": {
        "id": "ytWzJWSufAVq"
      },
      "execution_count": null,
      "outputs": []
    },
    {
      "cell_type": "markdown",
      "source": [
        "## Part 2 – Implement the Game Strategy Algorithms"
      ],
      "metadata": {
        "id": "rryBFqETgQJF"
      }
    },
    {
      "cell_type": "code",
      "source": [
        "def alphabeta_search(game, state):\n",
        "    player = state.to_move\n",
        "\n"
      ],
      "metadata": {
        "id": "2efp2ryNftEH"
      },
      "execution_count": null,
      "outputs": []
    },
    {
      "cell_type": "code",
      "source": [
        "def max_value(state, alpha, beta):\n",
        "        if game.is_terminal(state):\n",
        "            return game.utility(state, player), None\n",
        "        v, move = -float('inf'), None\n",
        "        for a in game.actions(state):\n",
        "            v2, _ = min_value(game.result(state, a), alpha, beta)\n",
        "            if v2 > v:\n",
        "                v, move = v2, a\n",
        "            alpha = max(alpha, v)\n",
        "            if v >= beta:\n",
        "                return v, move\n",
        "        return v, move\n"
      ],
      "metadata": {
        "id": "84hbx2e9fv3x"
      },
      "execution_count": null,
      "outputs": []
    },
    {
      "cell_type": "code",
      "source": [
        "def min_value(state, alpha, beta):\n",
        "        if game.is_terminal(state):\n",
        "            return game.utility(state, player), None\n",
        "        v, move = float('inf'), None\n",
        "        for a in game.actions(state):\n",
        "            v2, _ = max_value(game.result(state, a), alpha, beta)\n",
        "            if v2 < v:\n",
        "                v, move = v2, a\n",
        "            beta = min(beta, v)\n",
        "            if v <= alpha:\n",
        "                return v, move\n",
        "        return v, move\n"
      ],
      "metadata": {
        "id": "CO7iqoqjgnWi"
      },
      "execution_count": null,
      "outputs": []
    },
    {
      "cell_type": "code",
      "source": [
        "    return max_value(state, -float('inf'), float('inf'))\n"
      ],
      "metadata": {
        "colab": {
          "base_uri": "https://localhost:8080/",
          "height": 106
        },
        "id": "bDogrww5nkrq",
        "outputId": "eeec9ab0-9dfb-4446-fe08-d6e76bbd9827"
      },
      "execution_count": null,
      "outputs": [
        {
          "output_type": "error",
          "ename": "SyntaxError",
          "evalue": "'return' outside function (<ipython-input-37-06253a44ed0c>, line 1)",
          "traceback": [
            "\u001b[0;36m  File \u001b[0;32m\"<ipython-input-37-06253a44ed0c>\"\u001b[0;36m, line \u001b[0;32m1\u001b[0m\n\u001b[0;31m    return max_value(state, -float('inf'), float('inf'))\u001b[0m\n\u001b[0m    ^\u001b[0m\n\u001b[0;31mSyntaxError\u001b[0m\u001b[0;31m:\u001b[0m 'return' outside function\n"
          ]
        }
      ]
    },
    {
      "cell_type": "markdown",
      "source": [
        "## Part 3 – Implement the Game Strategy using TicTocToe\n"
      ],
      "metadata": {
        "id": "3wubdhlTlQPY"
      }
    },
    {
      "cell_type": "code",
      "source": [
        "class TicTacToe(Game):\n",
        "    \"\"\"Play TicTacToe on an 'height' by 'width' board, needing 'k' in a row to win.\n",
        "    'X' plays first against 'O'.\"\"\"\n",
        "\n"
      ],
      "metadata": {
        "id": "Xv3f7APTgyON"
      },
      "execution_count": null,
      "outputs": []
    },
    {
      "cell_type": "code",
      "source": [
        "def _init_(self, height=3, width=3, k=3):\n",
        "        self.k = k  # k in a row\n",
        "        self.squares = {(x, y) for x in range(width) for y in range(height)}\n",
        "        self.initial = Board(height=height, width=width, to_move='X', utility=0)\n"
      ],
      "metadata": {
        "id": "Hva0516Jg24a"
      },
      "execution_count": null,
      "outputs": []
    },
    {
      "cell_type": "code",
      "source": [
        "def actions(self, board):\n",
        "        \"\"\"Legal moves are any square not yet taken.\"\"\"\n",
        "        return self.squares - set(board)"
      ],
      "metadata": {
        "id": "nyovyW7JlZYN"
      },
      "execution_count": null,
      "outputs": []
    },
    {
      "cell_type": "code",
      "source": [
        "def result(self, board, square):\n",
        "        \"\"\"Place a marker for the current player on the square.\"\"\"\n",
        "        player = board.to_move\n",
        "        board = board.new({square: player}, to_move=('O' if player == 'X' else 'X'))\n",
        "        win = k_in_row(board, player, square, self.k)\n",
        "        board.utility = (0 if not win else +1 if player == 'X' else -1)\n",
        "        return board\n"
      ],
      "metadata": {
        "id": "8VC1K-h7leEH"
      },
      "execution_count": null,
      "outputs": []
    },
    {
      "cell_type": "code",
      "source": [
        "def utility(self, board, player):\n",
        "        \"\"\"Return the value to the player; 1 for win, -1 for loss, 0 otherwise.\"\"\"\n",
        "        return board.utility if player == 'X' else -board.utility\n"
      ],
      "metadata": {
        "id": "yHHGE4m9mIrp"
      },
      "execution_count": null,
      "outputs": []
    },
    {
      "cell_type": "code",
      "source": [
        "def is_terminal(self, board):\n",
        "        \"\"\"A board is a terminal state if it is won or there are no empty squares.\"\"\"\n",
        "        return board.utility != 0 or len(self.squares) == len(board)\n"
      ],
      "metadata": {
        "id": "aCVGE8UXnEdI"
      },
      "execution_count": null,
      "outputs": []
    },
    {
      "cell_type": "code",
      "source": [
        "def display(self, board):\n",
        "        print(board)\n"
      ],
      "metadata": {
        "id": "KBWQQ9exnHgo"
      },
      "execution_count": null,
      "outputs": []
    },
    {
      "cell_type": "code",
      "source": [
        "def k_in_row(board, player, square, k):\n",
        "        \"\"\"True if player has k pieces in a line through the square.\"\"\"\n",
        "        def in_row(x, y, dx, dy):\n",
        "            return 0 if board[x, y] != player else 1 + in_row(x + dx, y + dy, dx, dy)\n"
      ],
      "metadata": {
        "id": "iHyk8S3CnJut"
      },
      "execution_count": null,
      "outputs": []
    },
    {
      "cell_type": "code",
      "source": [
        "return any(in_row(*square, dx, dy) + in_row(*square, -dx, -dy) - 1 >= k\n",
        "                   for (dx, dy) in ((0, 1), (1, 0), (1, 1), (1, -1)))\n"
      ],
      "metadata": {
        "colab": {
          "base_uri": "https://localhost:8080/",
          "height": 106
        },
        "id": "6NiWIFagnMqR",
        "outputId": "d7d62954-5640-41d8-a493-b4fa15456961"
      },
      "execution_count": null,
      "outputs": [
        {
          "output_type": "error",
          "ename": "SyntaxError",
          "evalue": "'return' outside function (<ipython-input-36-c93ba3b2793b>, line 1)",
          "traceback": [
            "\u001b[0;36m  File \u001b[0;32m\"<ipython-input-36-c93ba3b2793b>\"\u001b[0;36m, line \u001b[0;32m1\u001b[0m\n\u001b[0;31m    return any(in_row(*square, dx, dy) + in_row(*square, -dx, -dy) - 1 >= k\u001b[0m\n\u001b[0m    ^\u001b[0m\n\u001b[0;31mSyntaxError\u001b[0m\u001b[0;31m:\u001b[0m 'return' outside function\n"
          ]
        }
      ]
    },
    {
      "cell_type": "code",
      "source": [
        "\n",
        "class Board(defaultdict):\n",
        "    empty = '.'\n",
        "    off = '#'\n"
      ],
      "metadata": {
        "id": "ORQwiE_snO6-"
      },
      "execution_count": null,
      "outputs": []
    },
    {
      "cell_type": "code",
      "source": [
        "    def init(self, width=8, height=8, to_move=None, **kwds):\n",
        "        self.dict.update(width=width, height=height, to_move=to_move, **kwds)\n"
      ],
      "metadata": {
        "id": "f_DCoqWYn71H"
      },
      "execution_count": null,
      "outputs": []
    },
    {
      "cell_type": "code",
      "source": [
        "   def new(self, changes: dict, **kwds) -> 'Board':\n",
        "        \"Given a dict of {(x, y): contents} changes, return a new Board with the changes.\"\n",
        "        board = Board(width=self.width, height=self.height, **kwds)\n",
        "        board.update(self)\n",
        "        board.update(changes)\n",
        "        return board\n"
      ],
      "metadata": {
        "id": "xIvOCavan-h7"
      },
      "execution_count": null,
      "outputs": []
    },
    {
      "cell_type": "code",
      "source": [
        " def missing(self, loc):\n",
        "        x, y = loc\n",
        "        if 0 <= x < self.width and 0 <= y < self.height:\n",
        "            return self.empty\n",
        "        else:\n",
        "            return self.off\n"
      ],
      "metadata": {
        "id": "egDHLGegoBR1"
      },
      "execution_count": null,
      "outputs": []
    },
    {
      "cell_type": "code",
      "source": [
        "    def hash(self):\n",
        "        return hash(tuple(sorted(self.items()))) + hash(self.to_move)\n"
      ],
      "metadata": {
        "id": "kuW811hJoGaC"
      },
      "execution_count": null,
      "outputs": []
    },
    {
      "cell_type": "code",
      "source": [
        "def repr(self):\n",
        "        def row(y):\n",
        "            return ' '.join(self[x, y] for x in range(self.width))\n",
        "        return '\\n'.join(map(row, range(self.height))) + '\\n'\n"
      ],
      "metadata": {
        "id": "YULdOXQdoEHI"
      },
      "execution_count": null,
      "outputs": []
    },
    {
      "cell_type": "code",
      "source": [
        "\n",
        "def random_player(game, state):\n",
        "    return random.choice(list(game.actions(state)))\n"
      ],
      "metadata": {
        "id": "Jw19f5GKoJ7g"
      },
      "execution_count": null,
      "outputs": []
    },
    {
      "cell_type": "code",
      "source": [
        "\n",
        "def player(search_algorithm):\n",
        "    return lambda game, state: search_algorithm(game, state)[1]\n"
      ],
      "metadata": {
        "id": "vheI7CtdoMrP"
      },
      "execution_count": null,
      "outputs": []
    },
    {
      "cell_type": "markdown",
      "source": [
        "## Part 4 – Evaluate the AI Game Strategy using TicTocToe\n"
      ],
      "metadata": {
        "id": "6prcLrzdpMH3"
      }
    },
    {
      "cell_type": "code",
      "source": [
        "play_game(TicTacToe(), {'X': random_player, 'O': player(alphabeta_search)}, verbose=True).utility\n",
        "play_game(TicTacToe(), {'X': player(alphabeta_search), 'O': player(minimax_search)}, verbose=True).utility"
      ],
      "metadata": {
        "colab": {
          "base_uri": "https://localhost:8080/",
          "height": 280
        },
        "id": "Al_HIpTooPFa",
        "outputId": "92665c0b-f4dd-40d2-c43a-4b3b98d95337"
      },
      "execution_count": null,
      "outputs": [
        {
          "output_type": "error",
          "ename": "AttributeError",
          "evalue": "'TicTacToe' object has no attribute 'initial'",
          "traceback": [
            "\u001b[0;31m---------------------------------------------------------------------------\u001b[0m",
            "\u001b[0;31mAttributeError\u001b[0m                            Traceback (most recent call last)",
            "\u001b[0;32m<ipython-input-46-15241b2cb7ab>\u001b[0m in \u001b[0;36m<cell line: 1>\u001b[0;34m()\u001b[0m\n\u001b[0;32m----> 1\u001b[0;31m \u001b[0mplay_game\u001b[0m\u001b[0;34m(\u001b[0m\u001b[0mTicTacToe\u001b[0m\u001b[0;34m(\u001b[0m\u001b[0;34m)\u001b[0m\u001b[0;34m,\u001b[0m \u001b[0;34m{\u001b[0m\u001b[0;34m'X'\u001b[0m\u001b[0;34m:\u001b[0m \u001b[0mrandom_player\u001b[0m\u001b[0;34m,\u001b[0m \u001b[0;34m'O'\u001b[0m\u001b[0;34m:\u001b[0m \u001b[0mplayer\u001b[0m\u001b[0;34m(\u001b[0m\u001b[0malphabeta_search\u001b[0m\u001b[0;34m)\u001b[0m\u001b[0;34m}\u001b[0m\u001b[0;34m,\u001b[0m \u001b[0mverbose\u001b[0m\u001b[0;34m=\u001b[0m\u001b[0;32mTrue\u001b[0m\u001b[0;34m)\u001b[0m\u001b[0;34m.\u001b[0m\u001b[0mutility\u001b[0m\u001b[0;34m\u001b[0m\u001b[0;34m\u001b[0m\u001b[0m\n\u001b[0m\u001b[1;32m      2\u001b[0m \u001b[0mplay_game\u001b[0m\u001b[0;34m(\u001b[0m\u001b[0mTicTacToe\u001b[0m\u001b[0;34m(\u001b[0m\u001b[0;34m)\u001b[0m\u001b[0;34m,\u001b[0m \u001b[0;34m{\u001b[0m\u001b[0;34m'X'\u001b[0m\u001b[0;34m:\u001b[0m \u001b[0mplayer\u001b[0m\u001b[0;34m(\u001b[0m\u001b[0malphabeta_search\u001b[0m\u001b[0;34m)\u001b[0m\u001b[0;34m,\u001b[0m \u001b[0;34m'O'\u001b[0m\u001b[0;34m:\u001b[0m \u001b[0mplayer\u001b[0m\u001b[0;34m(\u001b[0m\u001b[0mminimax_search\u001b[0m\u001b[0;34m)\u001b[0m\u001b[0;34m}\u001b[0m\u001b[0;34m,\u001b[0m \u001b[0mverbose\u001b[0m\u001b[0;34m=\u001b[0m\u001b[0;32mTrue\u001b[0m\u001b[0;34m)\u001b[0m\u001b[0;34m.\u001b[0m\u001b[0mutility\u001b[0m\u001b[0;34m\u001b[0m\u001b[0;34m\u001b[0m\u001b[0m\n",
            "\u001b[0;32m<ipython-input-6-436c67bcae87>\u001b[0m in \u001b[0;36mplay_game\u001b[0;34m(game, strategies, verbose)\u001b[0m\n\u001b[1;32m      1\u001b[0m \u001b[0;32mdef\u001b[0m \u001b[0mplay_game\u001b[0m\u001b[0;34m(\u001b[0m\u001b[0mgame\u001b[0m\u001b[0;34m,\u001b[0m \u001b[0mstrategies\u001b[0m\u001b[0;34m:\u001b[0m \u001b[0mdict\u001b[0m\u001b[0;34m,\u001b[0m \u001b[0mverbose\u001b[0m\u001b[0;34m=\u001b[0m\u001b[0;32mFalse\u001b[0m\u001b[0;34m)\u001b[0m\u001b[0;34m:\u001b[0m\u001b[0;34m\u001b[0m\u001b[0;34m\u001b[0m\u001b[0m\n\u001b[0;32m----> 2\u001b[0;31m     \u001b[0mstate\u001b[0m \u001b[0;34m=\u001b[0m \u001b[0mgame\u001b[0m\u001b[0;34m.\u001b[0m\u001b[0minitial\u001b[0m\u001b[0;34m\u001b[0m\u001b[0;34m\u001b[0m\u001b[0m\n\u001b[0m\u001b[1;32m      3\u001b[0m     \u001b[0;32mwhile\u001b[0m \u001b[0;32mnot\u001b[0m \u001b[0mgame\u001b[0m\u001b[0;34m.\u001b[0m\u001b[0mis_terminal\u001b[0m\u001b[0;34m(\u001b[0m\u001b[0mstate\u001b[0m\u001b[0;34m)\u001b[0m\u001b[0;34m:\u001b[0m\u001b[0;34m\u001b[0m\u001b[0;34m\u001b[0m\u001b[0m\n\u001b[1;32m      4\u001b[0m         \u001b[0mplayer\u001b[0m \u001b[0;34m=\u001b[0m \u001b[0mstate\u001b[0m\u001b[0;34m.\u001b[0m\u001b[0mto_move\u001b[0m\u001b[0;34m\u001b[0m\u001b[0;34m\u001b[0m\u001b[0m\n\u001b[1;32m      5\u001b[0m         \u001b[0mmove\u001b[0m \u001b[0;34m=\u001b[0m \u001b[0mstrategies\u001b[0m\u001b[0;34m[\u001b[0m\u001b[0mplayer\u001b[0m\u001b[0;34m]\u001b[0m\u001b[0;34m(\u001b[0m\u001b[0mgame\u001b[0m\u001b[0;34m,\u001b[0m \u001b[0mstate\u001b[0m\u001b[0;34m)\u001b[0m\u001b[0;34m\u001b[0m\u001b[0;34m\u001b[0m\u001b[0m\n",
            "\u001b[0;31mAttributeError\u001b[0m: 'TicTacToe' object has no attribute 'initial'"
          ]
        }
      ]
    },
    {
      "cell_type": "code",
      "source": [
        "play_game(TicTacToe(), dict(X=random_player,\n",
        "                            O=player(alphabeta_search)), verbose=True).utility\n"
      ],
      "metadata": {
        "colab": {
          "base_uri": "https://localhost:8080/",
          "height": 280
        },
        "id": "zNodSKBXpOkB",
        "outputId": "fcb85edd-b3f6-40f8-ce5d-f5b1e13e711a"
      },
      "execution_count": null,
      "outputs": [
        {
          "output_type": "error",
          "ename": "AttributeError",
          "evalue": "'TicTacToe' object has no attribute 'initial'",
          "traceback": [
            "\u001b[0;31m---------------------------------------------------------------------------\u001b[0m",
            "\u001b[0;31mAttributeError\u001b[0m                            Traceback (most recent call last)",
            "\u001b[0;32m<ipython-input-48-af4aa1c2f300>\u001b[0m in \u001b[0;36m<cell line: 1>\u001b[0;34m()\u001b[0m\n\u001b[0;32m----> 1\u001b[0;31m play_game(TicTacToe(), dict(X=random_player,\n\u001b[0m\u001b[1;32m      2\u001b[0m                             O=player(alphabeta_search)), verbose=True).utility\n",
            "\u001b[0;32m<ipython-input-6-436c67bcae87>\u001b[0m in \u001b[0;36mplay_game\u001b[0;34m(game, strategies, verbose)\u001b[0m\n\u001b[1;32m      1\u001b[0m \u001b[0;32mdef\u001b[0m \u001b[0mplay_game\u001b[0m\u001b[0;34m(\u001b[0m\u001b[0mgame\u001b[0m\u001b[0;34m,\u001b[0m \u001b[0mstrategies\u001b[0m\u001b[0;34m:\u001b[0m \u001b[0mdict\u001b[0m\u001b[0;34m,\u001b[0m \u001b[0mverbose\u001b[0m\u001b[0;34m=\u001b[0m\u001b[0;32mFalse\u001b[0m\u001b[0;34m)\u001b[0m\u001b[0;34m:\u001b[0m\u001b[0;34m\u001b[0m\u001b[0;34m\u001b[0m\u001b[0m\n\u001b[0;32m----> 2\u001b[0;31m     \u001b[0mstate\u001b[0m \u001b[0;34m=\u001b[0m \u001b[0mgame\u001b[0m\u001b[0;34m.\u001b[0m\u001b[0minitial\u001b[0m\u001b[0;34m\u001b[0m\u001b[0;34m\u001b[0m\u001b[0m\n\u001b[0m\u001b[1;32m      3\u001b[0m     \u001b[0;32mwhile\u001b[0m \u001b[0;32mnot\u001b[0m \u001b[0mgame\u001b[0m\u001b[0;34m.\u001b[0m\u001b[0mis_terminal\u001b[0m\u001b[0;34m(\u001b[0m\u001b[0mstate\u001b[0m\u001b[0;34m)\u001b[0m\u001b[0;34m:\u001b[0m\u001b[0;34m\u001b[0m\u001b[0;34m\u001b[0m\u001b[0m\n\u001b[1;32m      4\u001b[0m         \u001b[0mplayer\u001b[0m \u001b[0;34m=\u001b[0m \u001b[0mstate\u001b[0m\u001b[0;34m.\u001b[0m\u001b[0mto_move\u001b[0m\u001b[0;34m\u001b[0m\u001b[0;34m\u001b[0m\u001b[0m\n\u001b[1;32m      5\u001b[0m         \u001b[0mmove\u001b[0m \u001b[0;34m=\u001b[0m \u001b[0mstrategies\u001b[0m\u001b[0;34m[\u001b[0m\u001b[0mplayer\u001b[0m\u001b[0;34m]\u001b[0m\u001b[0;34m(\u001b[0m\u001b[0mgame\u001b[0m\u001b[0;34m,\u001b[0m \u001b[0mstate\u001b[0m\u001b[0;34m)\u001b[0m\u001b[0;34m\u001b[0m\u001b[0;34m\u001b[0m\u001b[0m\n",
            "\u001b[0;31mAttributeError\u001b[0m: 'TicTacToe' object has no attribute 'initial'"
          ]
        }
      ]
    },
    {
      "cell_type": "code",
      "source": [
        "\n",
        "play_game(TicTacToe(), dict(X=player(alphabeta_search),\n",
        "                            O=player(minimax_search)), verbose=True).utility"
      ],
      "metadata": {
        "colab": {
          "base_uri": "https://localhost:8080/",
          "height": 158
        },
        "id": "M7CI9Tr_pZWK",
        "outputId": "38268a53-df02-431a-b5af-77f6749409f0"
      },
      "execution_count": null,
      "outputs": [
        {
          "output_type": "error",
          "ename": "NameError",
          "evalue": "name 'minimax_search' is not defined",
          "traceback": [
            "\u001b[0;31m---------------------------------------------------------------------------\u001b[0m",
            "\u001b[0;31mNameError\u001b[0m                                 Traceback (most recent call last)",
            "\u001b[0;32m<ipython-input-49-3392692e1685>\u001b[0m in \u001b[0;36m<cell line: 1>\u001b[0;34m()\u001b[0m\n\u001b[1;32m      1\u001b[0m play_game(TicTacToe(), dict(X=player(alphabeta_search),\n\u001b[0;32m----> 2\u001b[0;31m                             O=player(minimax_search)), verbose=True).utility\n\u001b[0m",
            "\u001b[0;31mNameError\u001b[0m: name 'minimax_search' is not defined"
          ]
        }
      ]
    },
    {
      "cell_type": "code",
      "source": [],
      "metadata": {
        "id": "yRNssnS4pe9w"
      },
      "execution_count": null,
      "outputs": []
    }
  ]
}
